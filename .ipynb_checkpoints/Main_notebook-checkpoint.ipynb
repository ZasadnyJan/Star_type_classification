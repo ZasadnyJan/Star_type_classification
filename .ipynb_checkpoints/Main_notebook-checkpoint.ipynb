{
 "cells": [
  {
   "cell_type": "markdown",
   "metadata": {},
   "source": [
    "<h1 style=\"color:black; background-color:#7cdff3; font-family:Helvetica;font-size:400%;text-align:center\">Star Type Dataset - EDA and Classification </h1>"
   ]
  },
  {
   "cell_type": "markdown",
   "metadata": {},
   "source": [
    "![Space](space_bar.png)"
   ]
  },
  {
   "cell_type": "markdown",
   "metadata": {
    "toc": true
   },
   "source": [
    "<h1>Table of Contents<span class=\"tocSkip\"></span></h1>\n",
    "<div class=\"toc\"><ul class=\"toc-item\"><li><span><a href=\"#Introduction\" data-toc-modified-id=\"Introduction-1\"><span class=\"toc-item-num\">1&nbsp;&nbsp;</span>Introduction</a></span></li><li><span><a href=\"#Imports-and-function-definitions\" data-toc-modified-id=\"Imports-and-function-definitions-2\"><span class=\"toc-item-num\">2&nbsp;&nbsp;</span>Imports and function definitions</a></span></li><li><span><a href=\"#Data-loading-and-exploration\" data-toc-modified-id=\"Data-loading-and-exploration-3\"><span class=\"toc-item-num\">3&nbsp;&nbsp;</span>Data loading and exploration</a></span><ul class=\"toc-item\"><li><span><a href=\"#Reading-data-into-a-DataFrame\" data-toc-modified-id=\"Reading-data-into-a-DataFrame-3.1\"><span class=\"toc-item-num\">3.1&nbsp;&nbsp;</span>Reading data into a DataFrame</a></span></li><li><span><a href=\"#Basic-information\" data-toc-modified-id=\"Basic-information-3.2\"><span class=\"toc-item-num\">3.2&nbsp;&nbsp;</span>Basic information</a></span></li><li><span><a href=\"#Null-value-and-type-checking\" data-toc-modified-id=\"Null-value-and-type-checking-3.3\"><span class=\"toc-item-num\">3.3&nbsp;&nbsp;</span>Null-value and type checking</a></span></li></ul></li><li><span><a href=\"#Variable-exploration\" data-toc-modified-id=\"Variable-exploration-4\"><span class=\"toc-item-num\">4&nbsp;&nbsp;</span>Variable exploration</a></span><ul class=\"toc-item\"><li><span><a href=\"#Target-variable-exploration\" data-toc-modified-id=\"Target-variable-exploration-4.1\"><span class=\"toc-item-num\">4.1&nbsp;&nbsp;</span>Target variable exploration</a></span><ul class=\"toc-item\"><li><span><a href=\"#Target-variable-distribution\" data-toc-modified-id=\"Target-variable-distribution-4.1.1\"><span class=\"toc-item-num\">4.1.1&nbsp;&nbsp;</span>Target variable distribution</a></span></li></ul></li><li><span><a href=\"#Numerical-variable-exploration-and-preliminary-feature-engineering\" data-toc-modified-id=\"Numerical-variable-exploration-and-preliminary-feature-engineering-4.2\"><span class=\"toc-item-num\">4.2&nbsp;&nbsp;</span>Numerical variable exploration and preliminary feature engineering</a></span><ul class=\"toc-item\"><li><span><a href=\"#Basic-information\" data-toc-modified-id=\"Basic-information-4.2.1\"><span class=\"toc-item-num\">4.2.1&nbsp;&nbsp;</span>Basic information</a></span></li><li><span><a href=\"#Boxplots\" data-toc-modified-id=\"Boxplots-4.2.2\"><span class=\"toc-item-num\">4.2.2&nbsp;&nbsp;</span>Boxplots</a></span></li><li><span><a href=\"#Histograms\" data-toc-modified-id=\"Histograms-4.2.3\"><span class=\"toc-item-num\">4.2.3&nbsp;&nbsp;</span>Histograms</a></span></li><li><span><a href=\"#Boxplots-per-target-variable-values\" data-toc-modified-id=\"Boxplots-per-target-variable-values-4.2.4\"><span class=\"toc-item-num\">4.2.4&nbsp;&nbsp;</span>Boxplots per target variable values</a></span></li></ul></li><li><span><a href=\"#Categorical-variable-exploration\" data-toc-modified-id=\"Categorical-variable-exploration-4.3\"><span class=\"toc-item-num\">4.3&nbsp;&nbsp;</span>Categorical variable exploration</a></span><ul class=\"toc-item\"><li><span><a href=\"#Basic-information\" data-toc-modified-id=\"Basic-information-4.3.1\"><span class=\"toc-item-num\">4.3.1&nbsp;&nbsp;</span>Basic information</a></span></li><li><span><a href=\"#Unique-values-of-Color\" data-toc-modified-id=\"Unique-values-of-Color-4.3.2\"><span class=\"toc-item-num\">4.3.2&nbsp;&nbsp;</span>Unique values of Color</a></span></li><li><span><a href=\"#Color-value-remapping\" data-toc-modified-id=\"Color-value-remapping-4.3.3\"><span class=\"toc-item-num\">4.3.3&nbsp;&nbsp;</span>Color value remapping</a></span></li><li><span><a href=\"#Countplot-of-Color-variable\" data-toc-modified-id=\"Countplot-of-Color-variable-4.3.4\"><span class=\"toc-item-num\">4.3.4&nbsp;&nbsp;</span>Countplot of Color variable</a></span></li></ul></li><li><span><a href=\"#Encode-Color-Variable\" data-toc-modified-id=\"Encode-Color-Variable-4.4\"><span class=\"toc-item-num\">4.4&nbsp;&nbsp;</span>Encode Color Variable</a></span></li><li><span><a href=\"#Check-unique-categorical-values-for-&quot;Spectral_Class&quot;\" data-toc-modified-id=\"Check-unique-categorical-values-for-&quot;Spectral_Class&quot;-4.5\"><span class=\"toc-item-num\">4.5&nbsp;&nbsp;</span>Check unique categorical values for \"Spectral_Class\"</a></span></li><li><span><a href=\"#Check-count-of-each-Spectral_Classes'-occurence\" data-toc-modified-id=\"Check-count-of-each-Spectral_Classes'-occurence-4.6\"><span class=\"toc-item-num\">4.6&nbsp;&nbsp;</span>Check count of each Spectral_Classes' occurence</a></span></li><li><span><a href=\"#Encode-Spectral_Class-Variable\" data-toc-modified-id=\"Encode-Spectral_Class-Variable-4.7\"><span class=\"toc-item-num\">4.7&nbsp;&nbsp;</span>Encode Spectral_Class Variable</a></span></li><li><span><a href=\"#Check-countplots-of-categorical-values-per-target-variable\" data-toc-modified-id=\"Check-countplots-of-categorical-values-per-target-variable-4.8\"><span class=\"toc-item-num\">4.8&nbsp;&nbsp;</span>Check countplots of categorical values per target variable</a></span></li><li><span><a href=\"#Check-heatmap-for-variable-correlations\" data-toc-modified-id=\"Check-heatmap-for-variable-correlations-4.9\"><span class=\"toc-item-num\">4.9&nbsp;&nbsp;</span>Check heatmap for variable correlations</a></span><ul class=\"toc-item\"><li><span><a href=\"#Pearson\" data-toc-modified-id=\"Pearson-4.9.1\"><span class=\"toc-item-num\">4.9.1&nbsp;&nbsp;</span>Pearson</a></span></li><li><span><a href=\"#Kendall\" data-toc-modified-id=\"Kendall-4.9.2\"><span class=\"toc-item-num\">4.9.2&nbsp;&nbsp;</span>Kendall</a></span></li><li><span><a href=\"#Spearman\" data-toc-modified-id=\"Spearman-4.9.3\"><span class=\"toc-item-num\">4.9.3&nbsp;&nbsp;</span>Spearman</a></span></li></ul></li><li><span><a href=\"#Check-pairplot-for-variable-correlations\" data-toc-modified-id=\"Check-pairplot-for-variable-correlations-4.10\"><span class=\"toc-item-num\">4.10&nbsp;&nbsp;</span>Check pairplot for variable correlations</a></span></li></ul></li><li><span><a href=\"#Final-feature-engineering\" data-toc-modified-id=\"Final-feature-engineering-5\"><span class=\"toc-item-num\">5&nbsp;&nbsp;</span>Final feature engineering</a></span><ul class=\"toc-item\"><li><span><a href=\"#Remove-non-encoded-versions-of-categorical-variables\" data-toc-modified-id=\"Remove-non-encoded-versions-of-categorical-variables-5.1\"><span class=\"toc-item-num\">5.1&nbsp;&nbsp;</span>Remove non-encoded versions of categorical variables</a></span></li><li><span><a href=\"#Separate-target-and-features\" data-toc-modified-id=\"Separate-target-and-features-5.2\"><span class=\"toc-item-num\">5.2&nbsp;&nbsp;</span>Separate target and features</a></span></li><li><span><a href=\"#Split-features-into-train-and-test-sets\" data-toc-modified-id=\"Split-features-into-train-and-test-sets-5.3\"><span class=\"toc-item-num\">5.3&nbsp;&nbsp;</span>Split features into train and test sets</a></span></li></ul></li><li><span><a href=\"#Model-training\" data-toc-modified-id=\"Model-training-6\"><span class=\"toc-item-num\">6&nbsp;&nbsp;</span>Model training</a></span><ul class=\"toc-item\"><li><span><a href=\"#Train-a-default-RandomForestClassifier\" data-toc-modified-id=\"Train-a-default-RandomForestClassifier-6.1\"><span class=\"toc-item-num\">6.1&nbsp;&nbsp;</span>Train a default RandomForestClassifier</a></span></li><li><span><a href=\"#Examine-feature-importance\" data-toc-modified-id=\"Examine-feature-importance-6.2\"><span class=\"toc-item-num\">6.2&nbsp;&nbsp;</span>Examine feature importance</a></span></li></ul></li></ul></div>"
   ]
  },
  {
   "cell_type": "markdown",
   "metadata": {},
   "source": [
    "## Introduction"
   ]
  },
  {
   "cell_type": "markdown",
   "metadata": {},
   "source": [
    "This notebook contains an **Exploratory Data Analysis** of the [Star Type Classification / NASA Dataset](https://www.kaggle.com/brsdincer/star-type-classification) and a **RandomForestClassifier** model for prediction of star types.\n",
    "\n",
    "**The dataset**\n",
    "\n",
    "The [Star Type Classification / NASA Dataset](https://www.kaggle.com/brsdincer/star-type-classification) contains various information about stars, such as their tempearture, colour or radius. This data can be used for training classification and regression models.\n",
    "\n",
    "**Objectives**\n",
    "\n",
    "The main objective of this notebook is to explore all of the variables contained in the dataset and present relevant observations.\n",
    "Afterwards, I will perform feature engineering in order to transform the data into a form suitable for the RandomForestClassifier. Lastly, I will train the classifier to **predict Star Types** and analyse the results."
   ]
  },
  {
   "cell_type": "markdown",
   "metadata": {},
   "source": [
    "## Imports and function definitions"
   ]
  },
  {
   "cell_type": "code",
   "execution_count": null,
   "metadata": {},
   "outputs": [],
   "source": [
    "import numpy as np\n",
    "import pandas as pd\n",
    "import matplotlib.pyplot as plt\n",
    "import seaborn as sns\n",
    "import sqlite3\n",
    "import plotly.express as px\n",
    "import plotly\n",
    "import math\n",
    "from sklearn.preprocessing import RobustScaler\n",
    "from sklearn.model_selection import train_test_split\n",
    "from sklearn.ensemble import RandomForestClassifier\n",
    "from sklearn.metrics import accuracy_score"
   ]
  },
  {
   "cell_type": "code",
   "execution_count": null,
   "metadata": {},
   "outputs": [],
   "source": [
    "#Function used to add value labels to vertical barplots \n",
    "\n",
    "def add_val_labels(plot, spacing=float(0.5)):\n",
    "    for p in plot.patches:\n",
    "        if not math.isnan(p.get_height()):\n",
    "            x = p.get_x() + p.get_width()- float(0.9)\n",
    "            y = p.get_height() - spacing\n",
    "            value = round(p.get_height(), 1)\n",
    "            plot.text(x, y, value, ha=\"left\", color=\"black\", size='large')"
   ]
  },
  {
   "cell_type": "markdown",
   "metadata": {},
   "source": [
    "## Data loading and exploration"
   ]
  },
  {
   "cell_type": "markdown",
   "metadata": {},
   "source": [
    "### Reading data into a DataFrame"
   ]
  },
  {
   "cell_type": "code",
   "execution_count": null,
   "metadata": {},
   "outputs": [],
   "source": [
    "df = pd.read_csv(\"Stars.csv\")"
   ]
  },
  {
   "cell_type": "markdown",
   "metadata": {},
   "source": [
    "### Basic information"
   ]
  },
  {
   "cell_type": "code",
   "execution_count": null,
   "metadata": {},
   "outputs": [],
   "source": [
    "df.shape"
   ]
  },
  {
   "cell_type": "markdown",
   "metadata": {},
   "source": [
    "**Observations:**\n",
    "\n",
    "- This dataset is small, containing only 240 rows\n",
    "\n",
    "- It contains 7 columns"
   ]
  },
  {
   "cell_type": "code",
   "execution_count": null,
   "metadata": {},
   "outputs": [],
   "source": [
    "df.columns"
   ]
  },
  {
   "cell_type": "code",
   "execution_count": null,
   "metadata": {},
   "outputs": [],
   "source": [
    "df.head(-10)"
   ]
  },
  {
   "cell_type": "markdown",
   "metadata": {},
   "source": [
    "**Column definitions:**\n",
    "- Temperature - Temperature of the star, expressed in degrees of Kelvin: (K)\n",
    "- L - Relative luminosity, expressed in terms of nominal solar luminosity: (L/L⊙)\n",
    "- R - Relative radius, expressed in terms of nominal solar radius: (R/R⊙)\n",
    "- A_M - Absolute magnitude, expressed in: (Mv)\n",
    "- Color - Observable color of the star\n",
    "- Spectral_Class - Spectral class of the star, classified under the Morgan–Keenan (MK) system\n",
    "- Type - Type of the star:\n",
    "    - Red Dwarf - 0\n",
    "    - Brown Dwarf - 1\n",
    "    - White Dwarf - 2\n",
    "    - Main Sequence - 3\n",
    "    - Super Giant - 4\n",
    "    - Hyper Giant - 5\n"
   ]
  },
  {
   "cell_type": "markdown",
   "metadata": {},
   "source": [
    "### Null-value and type checking"
   ]
  },
  {
   "cell_type": "code",
   "execution_count": null,
   "metadata": {},
   "outputs": [],
   "source": [
    "df.info()"
   ]
  },
  {
   "cell_type": "markdown",
   "metadata": {},
   "source": [
    "**Observations:**\n",
    "\n",
    "- There is no null values\n",
    "\n",
    "- 4 columns contain numerical values: \n",
    "    - Temperature (int64)\n",
    "    - L (float64)\n",
    "    - R (float64)\n",
    "    - A_M (float64)\n",
    "\n",
    "- 3 columns contain categorical values: \n",
    "    - Color (object)\n",
    "    - Spectral_Class (object)\n",
    "    - Type (int64)\n",
    "\n",
    "- Target variable is Type "
   ]
  },
  {
   "cell_type": "markdown",
   "metadata": {},
   "source": [
    "## Variable exploration"
   ]
  },
  {
   "cell_type": "markdown",
   "metadata": {},
   "source": [
    "### Target variable exploration"
   ]
  },
  {
   "cell_type": "markdown",
   "metadata": {},
   "source": [
    "#### Target variable distribution"
   ]
  },
  {
   "cell_type": "code",
   "execution_count": null,
   "metadata": {},
   "outputs": [],
   "source": [
    "plt.figure(figsize=(12, 6))\n",
    "sns.countplot(x=\"Type\", data=df)\n",
    "plt.title(\"Type distribution\", fontsize=20)\n",
    "plt.xlabel(\"Type\", fontsize=16)\n",
    "plt.ylabel(\"Count\", fontsize=16)\n",
    "plt.xticks(fontsize=10)\n",
    "plt.yticks(fontsize=10)\n",
    "plt.show()"
   ]
  },
  {
   "cell_type": "markdown",
   "metadata": {},
   "source": [
    "**Observations:**\n",
    "\n",
    "- There is an equal number of rows corresponding to each star Type - Classes are completely balanced\n",
    "\n",
    "- Each of the 6 types has 40 corresponding observations"
   ]
  },
  {
   "cell_type": "markdown",
   "metadata": {},
   "source": [
    "###  Numerical variable exploration and preliminary feature engineering"
   ]
  },
  {
   "cell_type": "markdown",
   "metadata": {},
   "source": [
    "#### Basic information"
   ]
  },
  {
   "cell_type": "code",
   "execution_count": null,
   "metadata": {},
   "outputs": [],
   "source": [
    "df_vars_num = df.loc[:, [\"Temperature\", \"L\", \"R\", \"A_M\"]]\n",
    "df_vars_num.describe()"
   ]
  },
  {
   "cell_type": "markdown",
   "metadata": {},
   "source": [
    "**Observations:**\n",
    "\n",
    "- Variables Temperature, L, R appear to be skewed and may contain outliers. It can be confirmed by observing boxplots and histograms."
   ]
  },
  {
   "cell_type": "markdown",
   "metadata": {},
   "source": [
    "#### Boxplots"
   ]
  },
  {
   "cell_type": "code",
   "execution_count": null,
   "metadata": {},
   "outputs": [],
   "source": [
    "for col_name in df_vars_num:\n",
    "    plt.figure(figsize=(16, 4))\n",
    "    sns.boxplot(x=df_vars_num[col_name])\n",
    "    plt.title(col_name+ \" boxplot\", fontsize=20)\n",
    "    plt.xlabel(col_name, fontsize=16)\n",
    "    plt.xticks(fontsize=10)\n",
    "    plt.show()"
   ]
  },
  {
   "cell_type": "markdown",
   "metadata": {},
   "source": [
    "**Observations:**\n",
    "\n",
    "- Temperature, L and R variables contain outliers"
   ]
  },
  {
   "cell_type": "markdown",
   "metadata": {},
   "source": [
    "#### Histograms"
   ]
  },
  {
   "cell_type": "code",
   "execution_count": null,
   "metadata": {},
   "outputs": [],
   "source": [
    "for col_name in df_vars_num:\n",
    "    \n",
    "    plt.figure(figsize=(16, 6))\n",
    "    sns.histplot(x=col_name, kde=True, bins=30, data=df_vars_num)\n",
    "    plt.title(col_name+ \" distribution\", fontsize=20)\n",
    "    plt.xlabel(col_name, fontsize=16)\n",
    "    plt.ylabel(\"Count\", fontsize=16)\n",
    "    plt.xticks(fontsize=10)\n",
    "    plt.yticks(fontsize=10)\n",
    "    plt.show()"
   ]
  },
  {
   "cell_type": "markdown",
   "metadata": {},
   "source": [
    "**Obesrvations:**\n",
    "\n",
    "- None of the numerical variables follow the Gaussian distribution\n",
    "\n",
    "- For Temperature, L and R variables - Great majority of the values is contained on the far left edge of the distribution\n",
    "\n",
    "- For A_M variables - Majority of the values is contained on the left and right sides of the distribtuion"
   ]
  },
  {
   "cell_type": "markdown",
   "metadata": {},
   "source": [
    "#### Boxplots per target variable values"
   ]
  },
  {
   "cell_type": "code",
   "execution_count": null,
   "metadata": {},
   "outputs": [],
   "source": [
    "for col_name in df_vars_num:\n",
    "    plt.figure(figsize=(16, 8))\n",
    "    sns.boxplot(y=\"Type\", x=col_name, data=df, orient=\"h\")\n",
    "    plt.title(col_name+ \" distribution per value of Type\", fontsize=20)\n",
    "    plt.xlabel(col_name, fontsize=16)\n",
    "    plt.ylabel(\"Type\", fontsize=16)\n",
    "    plt.xticks(fontsize=10)\n",
    "    plt.yticks(fontsize=10)\n",
    "    plt.show()"
   ]
  },
  {
   "cell_type": "markdown",
   "metadata": {},
   "source": [
    "**Observations:**\n",
    "\n",
    "- All stars of Type 0 and 1 have temperature below 5000\n",
    "\n",
    "- Stars of types 0-2 have much lower luminosity than those of types 4-5. Majority of type 3 stars also has much lower luminosity, excluding a few outliers.\n",
    "\n",
    "- Stars of type 5 have much larger radius than other types\n",
    "\n",
    "- Absolute magnintude (A_M) seems to gradually get lower for stars of higher type"
   ]
  },
  {
   "cell_type": "markdown",
   "metadata": {},
   "source": [
    "### Categorical variable exploration"
   ]
  },
  {
   "cell_type": "markdown",
   "metadata": {},
   "source": [
    "#### Basic information"
   ]
  },
  {
   "cell_type": "code",
   "execution_count": null,
   "metadata": {},
   "outputs": [],
   "source": [
    "df_vars_cat = df.loc[:, [\"Color\", \"Spectral_Class\"]]\n",
    "df_vars_cat.describe()"
   ]
  },
  {
   "cell_type": "markdown",
   "metadata": {},
   "source": [
    "**Observations:**\n",
    "\n",
    "- There is 17 unique values of Color and 7 unique values of Spectral_Class\n",
    "\n",
    "- Red is the most common color and it appears 112 times\n",
    "\n",
    "- M is the most common spectral class and it appears 111 times"
   ]
  },
  {
   "cell_type": "markdown",
   "metadata": {},
   "source": [
    "#### Unique values of Color"
   ]
  },
  {
   "cell_type": "code",
   "execution_count": null,
   "metadata": {},
   "outputs": [],
   "source": [
    "df[\"Color\"].unique()"
   ]
  },
  {
   "cell_type": "markdown",
   "metadata": {},
   "source": [
    "![Star Colours](https://i.stack.imgur.com/XyJyp.jpg)\n",
    "\n",
    "**Observations**\n",
    "\n",
    "- It can be noticed that there's several values that are almost exactly the same, namely:\n",
    "\n",
    "    - \"yellowish\", \"Yellowish\", \"Yellow\"\n",
    "    \n",
    "    - \"Blue White\", \"Blue white\", \"Blue-white\", \"Blue-White\"\n",
    "    \n",
    "    - \"yellow-white\" and \"White-Yellow\"\n",
    "    \n",
    "    - \"white\", \"White\", \"Whitish\"\n",
    "    \n",
    "- Similar values mentioned above can be remapped to eliminate redundancy\n",
    "\n",
    "- As can be observed on the above image, star colours are strongly correlated with temperatures. Because of this, we can transform this categorical variable using a technique of label encoding, so that stars with \"colder\" colours get lower values and stars with \"hotter\" colours get higher values. This will allow us to treat \"Color\" as if it was an ordinal variable\n",
    "\n",
    "- We will change the name of \"Color\" column to \"Color_name\" and use the name \"Color\" for the newly created label-encoded column instead\n"
   ]
  },
  {
   "cell_type": "markdown",
   "metadata": {},
   "source": [
    "#### Color value remapping"
   ]
  },
  {
   "cell_type": "code",
   "execution_count": null,
   "metadata": {},
   "outputs": [],
   "source": [
    "remap_dict = {\n",
    "    'Red': 'Red',\n",
    "    'Blue White': 'Blue-White',\n",
    "    'White': 'White',\n",
    "    'Yellowish White': 'White-Yellow',\n",
    "    'Blue white': 'Blue-White',\n",
    "    'Pale yellow orange': 'Yellow-Orange',\n",
    "    'Blue': 'Blue',\n",
    "    'Blue-white': 'Blue-White',\n",
    "    'Whitish': 'White',\n",
    "    'yellow-white': 'White-Yellow',\n",
    "    'Orange': 'Orange',\n",
    "    'White-Yellow': 'White-Yellow',\n",
    "    'white': 'White',\n",
    "    'yellowish': 'Yellow',\n",
    "    'Yellowish': 'Yellow',\n",
    "    'Orange-Red': 'Orange-Red',\n",
    "    'Blue-White': 'Blue-White'\n",
    "}\n",
    "\n",
    "df[\"Color_name\"] = df[\"Color\"].map(remap_dict)\n",
    "df[\"Color_name\"].unique()"
   ]
  },
  {
   "cell_type": "markdown",
   "metadata": {},
   "source": [
    "**Observations:**\n",
    "- By remapping Color values, total number of unique values has been reduced from 17 to 9"
   ]
  },
  {
   "cell_type": "markdown",
   "metadata": {},
   "source": [
    "#### Countplot of Color variable"
   ]
  },
  {
   "cell_type": "code",
   "execution_count": null,
   "metadata": {},
   "outputs": [],
   "source": [
    "plt.figure(figsize=(20, 10))\n",
    "palette = {\"Red\": \"#fa0000\", \"Blue\": \"#001dfa\", \"Blue-White\": \"#8bb7f0\", \"White\": \"#e3e1d8\",\n",
    "           \"White-Yellow\": \"#fff6a1\", \"Yellow\": \"#fffc36\", \"Orange\": \"#ff9d00\", \"Orange-Red\": \"#ff6f00\",\n",
    "           \"Yellow-Orange\": \"#ffc800\"}\n",
    "plot = sns.countplot(x=\"Color_name\", data=df,\n",
    "              order=df[\"Color_name\"].value_counts().index, palette=palette)\n",
    "plt.title(\"Color distribution\", fontsize=20)\n",
    "plt.xlabel(\"Color\", fontsize=16)\n",
    "plt.ylabel(\"count\", fontsize=16)\n",
    "plt.xticks(fontsize=10)\n",
    "plt.yticks(fontsize=10)\n",
    "add_val_labels(plot, spacing=float(-0.2))\n",
    "plt.show()"
   ]
  },
  {
   "cell_type": "markdown",
   "metadata": {},
   "source": [
    "**Observations:**\n",
    "\n",
    "- Red is the most common colour, Orange-Red and Yellow-Orange are the least common (each have only 1 occurence).\n"
   ]
  },
  {
   "cell_type": "markdown",
   "metadata": {},
   "source": [
    "### Encode Color Variable"
   ]
  },
  {
   "cell_type": "code",
   "execution_count": null,
   "metadata": {},
   "outputs": [],
   "source": [
    "remap_dict_2 = {\n",
    "    \"Red\": 0,\n",
    "    \"Orange-Red\": 1,\n",
    "    \"Orange\": 2,\n",
    "    \"Yellow-Orange\": 3,\n",
    "    \"Yellow\": 4,\n",
    "    \"White-Yellow\": 5,\n",
    "    \"White\": 6,\n",
    "    \"Blue-White\": 7,\n",
    "    \"Blue\": 8\n",
    "}\n",
    "\n",
    "df[\"Color\"] = df[\"Color_name\"].map(remap_dict_2)\n",
    "df[\"Color\"].unique()"
   ]
  },
  {
   "cell_type": "markdown",
   "metadata": {},
   "source": [
    "### Check unique categorical values for \"Spectral_Class\""
   ]
  },
  {
   "cell_type": "code",
   "execution_count": null,
   "metadata": {},
   "outputs": [],
   "source": [
    "df[\"Spectral_Class\"].unique()"
   ]
  },
  {
   "cell_type": "markdown",
   "metadata": {},
   "source": [
    "-According to the Wikipedia article on Stellar classification (https://en.wikipedia.org/wiki/Stellar_classification):\n",
    "\n",
    "        \"Most stars are currently classified under the Morgan–Keenan (MK) system using the letters O, B, A, F, G, K, and M, a sequence from the hottest (O type) to the coolest (M type).\"\n",
    "        \n",
    "With that knowledge in mind, we can Label-encode this variable in a similar fashion to how we dealt with \"Color\" variable."
   ]
  },
  {
   "cell_type": "markdown",
   "metadata": {},
   "source": [
    "### Check count of each Spectral_Classes' occurence "
   ]
  },
  {
   "cell_type": "code",
   "execution_count": null,
   "metadata": {},
   "outputs": [],
   "source": [
    "plt.figure(figsize=(25, 10))\n",
    "sns.countplot(x=\"Spectral_Class\", data=df,\n",
    "              order=df['Spectral_Class'].value_counts().index, color=\"red\")\n",
    "plt.show()"
   ]
  },
  {
   "cell_type": "markdown",
   "metadata": {},
   "source": [
    "-M is the most common spectral class and G is the least common.\n",
    "\n",
    "Next, we will use label encoding to assign a number to every spectral class in range 0-6, with 0 being the \"coldest\"- M, and 6 being the \"hottest\"- O, just like with the \"Color\" variable."
   ]
  },
  {
   "cell_type": "markdown",
   "metadata": {},
   "source": [
    "### Encode Spectral_Class Variable"
   ]
  },
  {
   "cell_type": "code",
   "execution_count": null,
   "metadata": {},
   "outputs": [],
   "source": [
    "df[\"Spectral_Class_name\"] = df[\"Spectral_Class\"]\n",
    "\n",
    "remap_dict_3 = {\n",
    "    \"M\": 0,\n",
    "    \"K\": 1,\n",
    "    \"G\": 2,\n",
    "    \"F\": 3,\n",
    "    \"A\": 4,\n",
    "    \"B\": 5,\n",
    "    \"O\": 6\n",
    "}\n",
    "\n",
    "df[\"Spectral_Class\"] = df[\"Spectral_Class_name\"].map(remap_dict_3)\n",
    "df[\"Spectral_Class\"].unique()"
   ]
  },
  {
   "cell_type": "markdown",
   "metadata": {},
   "source": [
    "### Check countplots of categorical values per target variable "
   ]
  },
  {
   "cell_type": "code",
   "execution_count": null,
   "metadata": {},
   "outputs": [],
   "source": [
    "plt.figure(figsize=(25, 10))\n",
    "sns.countplot(x=\"Color_name\", hue=\"Type\", data=df)\n",
    "plt.show()"
   ]
  },
  {
   "cell_type": "markdown",
   "metadata": {},
   "source": [
    "Observations:\n",
    "\n",
    "- Type 0 and 1 stars are exclusively Red\n",
    "\n",
    "- No Type 3 stars are Red\n",
    "\n",
    "- All Yellow and Orange-Red stars are Type 3\n",
    "\n",
    "- All Yellow-Orange stars are Type 2\n",
    "\n",
    "- All Orange stars are Type 5"
   ]
  },
  {
   "cell_type": "code",
   "execution_count": null,
   "metadata": {},
   "outputs": [],
   "source": [
    "plt.figure(figsize=(25, 10))\n",
    "sns.countplot(x=\"Spectral_Class_name\", hue=\"Type\", data=df)\n",
    "plt.show()"
   ]
  },
  {
   "cell_type": "markdown",
   "metadata": {},
   "source": [
    "Observations:\n",
    "\n",
    "- Type 0 and 1 stars are exclusively Class M\n",
    "\n",
    "- All Class G stars are Type 5\n",
    "\n",
    "- Majority of Type 4 stars belong to class O\n",
    "\n",
    "- Majority of Type 2 stars belong to class B"
   ]
  },
  {
   "cell_type": "markdown",
   "metadata": {},
   "source": [
    "### Check heatmap for variable correlations"
   ]
  },
  {
   "cell_type": "markdown",
   "metadata": {},
   "source": [
    "#### Pearson"
   ]
  },
  {
   "cell_type": "code",
   "execution_count": null,
   "metadata": {},
   "outputs": [],
   "source": [
    "correlations = df.corr()\n",
    "plt.figure(figsize=(16, 12))\n",
    "ax = sns.heatmap(correlations, square=True, annot=True,\n",
    "                 fmt='.2f', linecolor='white', cmap=\"vlag\")\n",
    "ax.set_xticklabels(ax.get_xticklabels(), rotation=90, fontsize=10)\n",
    "ax.set_yticklabels(ax.get_yticklabels(), rotation=30, fontsize=10)\n",
    "plt.show()"
   ]
  },
  {
   "cell_type": "markdown",
   "metadata": {},
   "source": [
    "-A_M and Type are very heavily negatively correlated\n",
    "\n",
    "-A_M and L, R are also negatively correlated\n",
    "\n",
    "-Type and L, R are positively correlated\n",
    "\n",
    "-L and R are positively correlated\n",
    "\n",
    "-Color and Temperature are heavily positively correlated\n",
    "\n",
    "-Spectral_Class and Temperature are heavily positively correlated\n",
    "\n",
    "-Spectral_Class and Color are very heavily positively correlated\n",
    "\n",
    "TODO"
   ]
  },
  {
   "cell_type": "markdown",
   "metadata": {},
   "source": [
    "#### Kendall"
   ]
  },
  {
   "cell_type": "code",
   "execution_count": null,
   "metadata": {},
   "outputs": [],
   "source": [
    "correlations = df.corr(method='kendall')\n",
    "plt.figure(figsize=(16, 12))\n",
    "ax = sns.heatmap(correlations, square=True, annot=True,\n",
    "                 fmt='.2f', linecolor='white', cmap=\"vlag\")\n",
    "ax.set_xticklabels(ax.get_xticklabels(), rotation=90, fontsize=10)\n",
    "ax.set_yticklabels(ax.get_yticklabels(), rotation=30, fontsize=10)\n",
    "plt.show()"
   ]
  },
  {
   "cell_type": "markdown",
   "metadata": {},
   "source": [
    "#### Spearman"
   ]
  },
  {
   "cell_type": "code",
   "execution_count": null,
   "metadata": {},
   "outputs": [],
   "source": [
    "correlations = df.corr(method='spearman')\n",
    "plt.figure(figsize=(16, 12))\n",
    "ax = sns.heatmap(correlations, square=True, annot=True,\n",
    "                 fmt='.2f', linecolor='white', cmap=\"vlag\")\n",
    "ax.set_xticklabels(ax.get_xticklabels(), rotation=90, fontsize=10)\n",
    "ax.set_yticklabels(ax.get_yticklabels(), rotation=30, fontsize=10)\n",
    "plt.show()"
   ]
  },
  {
   "cell_type": "markdown",
   "metadata": {},
   "source": [
    "### Check pairplot for variable correlations"
   ]
  },
  {
   "cell_type": "code",
   "execution_count": null,
   "metadata": {},
   "outputs": [],
   "source": [
    "sns.pairplot(df, kind='reg', diag_kind='hist', palette='Rainbow')\n",
    "plt.show()"
   ]
  },
  {
   "cell_type": "markdown",
   "metadata": {},
   "source": [
    "Thanks to the pairplot visualisation we can observe previously identified correlations. The most important observations include:\n",
    "\n",
    "- Very heavy negative correlation between Type and A_M\n",
    "\n",
    "- Positive correlation between Type and L\n",
    "\n",
    "- Positive correlation between Type and R\n",
    "\n",
    "- Very heavy positive correlation between Color and Spectral_Class\n",
    "\n",
    "- Heavy positive correlation between Spectral_Class and temperature\n",
    "\n",
    "- Heavy positive correlation between Color and temperature\n",
    "\n",
    "Heavy correlations between the target variable and features of the data (The first 3 above) are very desirable, while heavy correlations between different features (The last 3) are not, because they may end up not providing any meaningful data."
   ]
  },
  {
   "cell_type": "markdown",
   "metadata": {},
   "source": [
    "## Final feature engineering"
   ]
  },
  {
   "cell_type": "markdown",
   "metadata": {},
   "source": [
    "### Remove non-encoded versions of categorical variables"
   ]
  },
  {
   "cell_type": "code",
   "execution_count": null,
   "metadata": {},
   "outputs": [],
   "source": [
    "df = df.drop([\"Color_name\", \"Spectral_Class_name\"], axis=1)\n",
    "df.head()"
   ]
  },
  {
   "cell_type": "markdown",
   "metadata": {},
   "source": [
    "### Separate target and features"
   ]
  },
  {
   "cell_type": "code",
   "execution_count": null,
   "metadata": {},
   "outputs": [],
   "source": [
    "y = df[\"Type\"]\n",
    "y.head()"
   ]
  },
  {
   "cell_type": "code",
   "execution_count": null,
   "metadata": {},
   "outputs": [],
   "source": [
    "X = df.drop([\"Type\"], axis=1)\n",
    "X.head()"
   ]
  },
  {
   "cell_type": "markdown",
   "metadata": {},
   "source": [
    "### Split features into train and test sets "
   ]
  },
  {
   "cell_type": "code",
   "execution_count": null,
   "metadata": {},
   "outputs": [],
   "source": [
    "X_train, X_test, y_train, y_test = train_test_split(\n",
    "    X, y, test_size=0.4, random_state=1)\n",
    "\n",
    "print(X_train.shape, X_test.shape, y_train.shape, y_test.shape)"
   ]
  },
  {
   "cell_type": "markdown",
   "metadata": {},
   "source": [
    "## Model training"
   ]
  },
  {
   "cell_type": "markdown",
   "metadata": {},
   "source": [
    "### Train a default RandomForestClassifier"
   ]
  },
  {
   "cell_type": "code",
   "execution_count": null,
   "metadata": {},
   "outputs": [],
   "source": [
    "rfc_model = RandomForestClassifier(random_state=1)\n",
    "\n",
    "rfc_model.fit(X_train, y_train)\n",
    "\n",
    "y_pred_1 = rfc_model.predict(X_test)\n",
    "\n",
    "score_1 = accuracy_score(y_test, y_pred_1)\n",
    "\n",
    "print(\"Accuracy of default RandomForestClassifier = \"+str(score_1))"
   ]
  },
  {
   "cell_type": "markdown",
   "metadata": {},
   "source": [
    "Using just the default RandomForestClassifier model we're able to achieve perfect accuracy. This is most likely caused by following:\n",
    "\n",
    "- High correlation values of all features with the target variable\n",
    "\n",
    "- Relatively large ratio of observations to possible target classes \n",
    "\n",
    "- TODO\n",
    "\n",
    "It is very important to note, however that our trained model is not perfect and will not always have perfect accuracy on new data, because:\n",
    "\n",
    "- The amount of training observations was quite low (only 144)\n",
    "\n",
    "- Several categorical feature values only appeared a few times (Such as Colors: Orange-Red, Yellow-Orange)\n",
    "\n",
    "This flaw can be easily observed by changing the random_state variable of our train_test_split:"
   ]
  },
  {
   "cell_type": "code",
   "execution_count": null,
   "metadata": {},
   "outputs": [],
   "source": [
    "X_train, X_test, y_train, y_test = train_test_split(\n",
    "    X, y, test_size=0.4, random_state=47)\n",
    "\n",
    "print(X_train.shape, X_test.shape, y_train.shape, y_test.shape)"
   ]
  },
  {
   "cell_type": "code",
   "execution_count": null,
   "metadata": {},
   "outputs": [],
   "source": [
    "rfc_model2 = RandomForestClassifier(random_state=1)\n",
    "\n",
    "rfc_model2.fit(X_train, y_train)\n",
    "\n",
    "y_pred_2 = rfc_model2.predict(X_test)\n",
    "\n",
    "score_2 = accuracy_score(y_test, y_pred_2)\n",
    "\n",
    "print(\"Accuracy of default RandomForestClassifier with random_state of train_test_split changed = \"+str(score_2))"
   ]
  },
  {
   "cell_type": "markdown",
   "metadata": {},
   "source": [
    "But even though it's not perfect, this model has an accuracy that's more than satisfying"
   ]
  },
  {
   "cell_type": "markdown",
   "metadata": {},
   "source": [
    "### Examine feature importance"
   ]
  },
  {
   "cell_type": "code",
   "execution_count": null,
   "metadata": {},
   "outputs": [],
   "source": [
    "feature_importance = pd.Series(\n",
    "    rfc_model.feature_importances_, index=X.columns).sort_values(ascending=False)\n",
    "\n",
    "plt.figure(figsize=(25, 10))\n",
    "sns.barplot(x=feature_importance, y=feature_importance.index)\n",
    "plt.show()"
   ]
  },
  {
   "cell_type": "markdown",
   "metadata": {},
   "source": [
    "As we can see, features A_M and R together contribute to over 60% of the mean decrease in impurity"
   ]
  },
  {
   "cell_type": "code",
   "execution_count": null,
   "metadata": {},
   "outputs": [],
   "source": []
  }
 ],
 "metadata": {
  "hide_input": false,
  "kernelspec": {
   "display_name": "Python 3",
   "language": "python",
   "name": "python3"
  },
  "language_info": {
   "codemirror_mode": {
    "name": "ipython",
    "version": 3
   },
   "file_extension": ".py",
   "mimetype": "text/x-python",
   "name": "python",
   "nbconvert_exporter": "python",
   "pygments_lexer": "ipython3",
   "version": "3.7.9"
  },
  "toc": {
   "base_numbering": 1,
   "nav_menu": {},
   "number_sections": true,
   "sideBar": true,
   "skip_h1_title": true,
   "title_cell": "Table of Contents",
   "title_sidebar": "Contents",
   "toc_cell": true,
   "toc_position": {},
   "toc_section_display": true,
   "toc_window_display": false
  },
  "varInspector": {
   "cols": {
    "lenName": 16,
    "lenType": 16,
    "lenVar": 40
   },
   "kernels_config": {
    "python": {
     "delete_cmd_postfix": "",
     "delete_cmd_prefix": "del ",
     "library": "var_list.py",
     "varRefreshCmd": "print(var_dic_list())"
    },
    "r": {
     "delete_cmd_postfix": ") ",
     "delete_cmd_prefix": "rm(",
     "library": "var_list.r",
     "varRefreshCmd": "cat(var_dic_list()) "
    }
   },
   "position": {
    "height": "426.85px",
    "left": "1539px",
    "right": "20px",
    "top": "124px",
    "width": "350px"
   },
   "types_to_exclude": [
    "module",
    "function",
    "builtin_function_or_method",
    "instance",
    "_Feature"
   ],
   "window_display": true
  }
 },
 "nbformat": 4,
 "nbformat_minor": 4
}
